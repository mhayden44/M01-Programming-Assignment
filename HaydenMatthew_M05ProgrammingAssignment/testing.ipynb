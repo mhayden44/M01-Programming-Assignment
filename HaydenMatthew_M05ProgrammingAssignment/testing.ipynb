{
 "cells": [
  {
   "cell_type": "markdown",
   "metadata": {},
   "source": [
    "# **Testing Your Code**"
   ]
  },
  {
   "cell_type": "code",
   "execution_count": 17,
   "metadata": {},
   "outputs": [],
   "source": [
    "assert sum([1, 2, 3]) == 6, \"Should be 6\""
   ]
  },
  {
   "cell_type": "code",
   "execution_count": 18,
   "metadata": {},
   "outputs": [
    {
     "ename": "AssertionError",
     "evalue": "Should be 6",
     "output_type": "error",
     "traceback": [
      "\u001b[1;31m---------------------------------------------------------------------------\u001b[0m",
      "\u001b[1;31mAssertionError\u001b[0m                            Traceback (most recent call last)",
      "Cell \u001b[1;32mIn [18], line 1\u001b[0m\n\u001b[1;32m----> 1\u001b[0m \u001b[39massert\u001b[39;00m \u001b[39msum\u001b[39m([\u001b[39m1\u001b[39m, \u001b[39m1\u001b[39m, \u001b[39m1\u001b[39m]) \u001b[39m==\u001b[39m \u001b[39m6\u001b[39m, \u001b[39m\"\u001b[39m\u001b[39mShould be 6\u001b[39m\u001b[39m\"\u001b[39m\n",
      "\u001b[1;31mAssertionError\u001b[0m: Should be 6"
     ]
    }
   ],
   "source": [
    "assert sum([1, 1, 1]) == 6, \"Should be 6\""
   ]
  },
  {
   "cell_type": "code",
   "execution_count": null,
   "metadata": {},
   "outputs": [
    {
     "name": "stdout",
     "output_type": "stream",
     "text": [
      "Everything passed\n"
     ]
    }
   ],
   "source": [
    "#test_sum\n",
    "\n",
    "def test_sum():\n",
    "    assert sum([1, 2, 3]) == 6, \"Should be 6\"\n",
    "\n",
    "if __name__ == \"__main__\":\n",
    "    test_sum()\n",
    "    print(\"Everything passed\")"
   ]
  },
  {
   "cell_type": "code",
   "execution_count": null,
   "metadata": {},
   "outputs": [
    {
     "ename": "AssertionError",
     "evalue": "Should be 6",
     "output_type": "error",
     "traceback": [
      "\u001b[1;31m---------------------------------------------------------------------------\u001b[0m",
      "\u001b[1;31mAssertionError\u001b[0m                            Traceback (most recent call last)",
      "Cell \u001b[1;32mIn [110], line 9\u001b[0m\n\u001b[0;32m      7\u001b[0m \u001b[39mif\u001b[39;00m \u001b[39m__name__\u001b[39m \u001b[39m==\u001b[39m \u001b[39m\"\u001b[39m\u001b[39m__main__\u001b[39m\u001b[39m\"\u001b[39m:\n\u001b[0;32m      8\u001b[0m     test_sum()\n\u001b[1;32m----> 9\u001b[0m     test_sum_tuple()\n\u001b[0;32m     10\u001b[0m     \u001b[39mprint\u001b[39m(\u001b[39m\"\u001b[39m\u001b[39mEverything passed\u001b[39m\u001b[39m\"\u001b[39m)\n",
      "Cell \u001b[1;32mIn [110], line 5\u001b[0m, in \u001b[0;36mtest_sum_tuple\u001b[1;34m()\u001b[0m\n\u001b[0;32m      4\u001b[0m \u001b[39mdef\u001b[39;00m \u001b[39mtest_sum_tuple\u001b[39m():\n\u001b[1;32m----> 5\u001b[0m     \u001b[39massert\u001b[39;00m \u001b[39msum\u001b[39m((\u001b[39m1\u001b[39m, \u001b[39m2\u001b[39m, \u001b[39m2\u001b[39m)) \u001b[39m==\u001b[39m \u001b[39m6\u001b[39m, \u001b[39m\"\u001b[39m\u001b[39mShould be 6\u001b[39m\u001b[39m\"\u001b[39m\n",
      "\u001b[1;31mAssertionError\u001b[0m: Should be 6"
     ]
    }
   ],
   "source": [
    "#test_sum_2\n",
    "\n",
    "def test_sum():\n",
    "    assert sum([1, 2, 3]) == 6, \"Should be 6\"\n",
    "\n",
    "def test_sum_tuple():\n",
    "    assert sum((1, 2, 2)) == 6, \"Should be 6\"\n",
    "\n",
    "if __name__ == \"__main__\":\n",
    "    test_sum()\n",
    "    test_sum_tuple()\n",
    "    print(\"Everything passed\")"
   ]
  },
  {
   "cell_type": "markdown",
   "metadata": {},
   "source": [
    "## _Since unittest does not work in ipynb files, I made the .py file (test_sum_unittest.py) like the tutorial said to do and listed what the console returned when the tests were run._\n",
    "## "
   ]
  },
  {
   "cell_type": "markdown",
   "metadata": {},
   "source": [
    "## unittest powershell output\n",
    "\n",
    "##### PS C:\\Users\\mattl\\OneDrive\\Desktop\\Coding\\SDEV Python\\SDEV220\\Haydenmatthew_M05ProgrammingAssignment> python test_sum_unittest.py\n",
    "##### .F\n",
    "======================================================================\n",
    "##### FAIL: test_sum_tuple (__main__.TestSum)\n",
    "----------------------------------------------------------------------\n",
    "    Traceback (most recent call last):\n",
    "    File \"C:\\Users\\mattl\\OneDrive\\Desktop\\Coding\\SDEV Python\\SDEV220\\Haydenmatthew_M05ProgrammingAssignment\\test_sum_unittest.py\", line 10, in test_sum_tuple\n",
    "        self.assertEqual(sum((1, 2, 2)), 6, \"Should be 6\")\n",
    "    AssertionError: 5 != 6 : Should be 6\n",
    "\n",
    "----------------------------------------------------------------------\n",
    "Ran 2 tests in 0.001s\n",
    "\n",
    "FAILED (failures=1)"
   ]
  },
  {
   "cell_type": "markdown",
   "metadata": {},
   "source": [
    "## unittest nose2 powershell output\n",
    "\n",
    "##### PS C:\\Users\\mattl\\OneDrive\\Desktop\\Coding\\SDEV Python\\SDEV220\\Haydenmatthew_M05ProgrammingAssignment> pip install nose2\n",
    "##### PS C:\\Users\\mattl\\OneDrive\\Desktop\\Coding\\SDEV Python\\SDEV220\\Haydenmatthew_M05ProgrammingAssignment> python -m nose2\n",
    "##### .F\n",
    "======================================================================\n",
    "##### FAIL: test_sum_tuple (__main__.TestSum)\n",
    "----------------------------------------------------------------------\n",
    "    Traceback (most recent call last):\n",
    "    File \"test_sum_unittest.py\", line 9, in test_sum_tuple\n",
    "        self.assertEqual(sum((1, 2, 2)), 6, \"Should be 6\")\n",
    "    AssertionError: Should be 6\n",
    "\n",
    "----------------------------------------------------------------------\n",
    "Ran 2 tests in 0.001s\n",
    "\n",
    "FAILED (failures=1)"
   ]
  },
  {
   "cell_type": "code",
   "execution_count": null,
   "metadata": {},
   "outputs": [],
   "source": [
    "#pytest\n",
    "\n",
    "def test_sum():\n",
    "    assert sum([1, 2, 3]) == 6, \"Should be 6\"\n",
    "\n",
    "def test_sum_tuple():\n",
    "    assert sum((1, 2, 2)) == 6, \"Should be 6\""
   ]
  },
  {
   "cell_type": "markdown",
   "metadata": {},
   "source": [
    "# **Writing Your First Test**\n",
    "### _The following python code is commented since ipynb files don't allow for unittests. The actual files (init.py and test.py) can be found under HaydenMatthew_M05ProgrammingAssignment/project_"
   ]
  },
  {
   "cell_type": "code",
   "execution_count": null,
   "metadata": {},
   "outputs": [
    {
     "data": {
      "text/plain": [
       "' \\ndef sum(arg):\\n    total = 0\\n    for val in arg:\\n        total += val\\n    return total\\n'"
      ]
     },
     "execution_count": 14,
     "metadata": {},
     "output_type": "execute_result"
    }
   ],
   "source": [
    "#__init__.py\n",
    "\"\"\" \n",
    "def sum(arg):\n",
    "    total = 0\n",
    "    for val in arg:\n",
    "        total += val\n",
    "    return total\n",
    "\"\"\""
   ]
  },
  {
   "cell_type": "code",
   "execution_count": null,
   "metadata": {},
   "outputs": [
    {
     "data": {
      "text/plain": [
       "\" import unittest\\n\\nfrom my_sum import sum\\n\\n\\nclass TestSum(unittest.TestCase):\\n    def test_list_int(self):\\n        \\n        # Test that it can sum a list of integers\\n        \\n        data = [1, 2, 3]\\n        result = sum(data)\\n        self.assertEqual(result, 6)\\n\\nif __name__ == '__main__':\\n    unittest.main()\\n\""
      ]
     },
     "execution_count": 13,
     "metadata": {},
     "output_type": "execute_result"
    }
   ],
   "source": [
    "#test.py\n",
    "\"\"\" import unittest\n",
    "\n",
    "from my_sum import sum\n",
    "\n",
    "\n",
    "class TestSum(unittest.TestCase):\n",
    "    def test_list_int(self):\n",
    "        \n",
    "        # Test that it can sum a list of integers\n",
    "        \n",
    "        data = [1, 2, 3]\n",
    "        result = sum(data)\n",
    "        self.assertEqual(result, 6)\n",
    "\n",
    "if __name__ == '__main__':\n",
    "    unittest.main()\n",
    "\"\"\""
   ]
  },
  {
   "cell_type": "markdown",
   "metadata": {},
   "source": [
    "# **Executing Your First Test**\n",
    "### _Once again, the output of the console for the various tests is listed in the markdown cells_"
   ]
  },
  {
   "cell_type": "markdown",
   "metadata": {},
   "source": [
    "## python -m unittest test\n",
    "##### PS C:\\Users\\mattl\\OneDrive\\Desktop\\Coding\\SDEV Python\\SDEV220\\HaydenMatthew_M05Programmingassignment\\project> python -m unittest test   \n",
    "##### .\n",
    "----------------------------------------------------------------------\n",
    "Ran 1 test in 0.000s\n",
    "\n",
    "OK"
   ]
  },
  {
   "cell_type": "markdown",
   "metadata": {},
   "source": [
    "## python -m unittest -v test\n",
    "##### PS C:\\Users\\mattl\\OneDrive\\Desktop\\Coding\\SDEV Python\\SDEV220\\HaydenMatthew_M05Programmingassignment\\project> python -m unittest -v test\n",
    "##### test_list_int (test.TestSum)\n",
    "##### Test that it can sum a list of integers ... ok\n",
    "\n",
    "----------------------------------------------------------------------\n",
    "Ran 1 test in 0.001s\n",
    "\n",
    "OK"
   ]
  },
  {
   "cell_type": "markdown",
   "metadata": {},
   "source": [
    "## python -m unittest discover -s test\n",
    "##### PS C:\\Users\\mattl\\OneDrive\\Desktop\\Coding\\SDEV Python\\SDEV220\\HaydenMatthew_M05Programmingassignment\\project> python -m unittest discover -s test \n",
    "##### .\n",
    "----------------------------------------------------------------------\n",
    "Ran 1 test in 0.000s\n",
    "\n",
    "OK"
   ]
  },
  {
   "cell_type": "code",
   "execution_count": null,
   "metadata": {},
   "outputs": [],
   "source": [
    "#test.py\n",
    "\"\"\"\n",
    "import unittest\n",
    "\n",
    "from fractions import Fraction\n",
    "from my_sum import sum\n",
    "\n",
    "\n",
    "class TestSum(unittest.TestCase):\n",
    "    def test_list_int(self):\n",
    "        \n",
    "        # Test that it can sum a list of integers\n",
    "        \n",
    "        data = [1, 2, 3]\n",
    "        result = sum(data)\n",
    "        self.assertEqual(result, 6)\n",
    "\n",
    "    def test_list_fraction(self):\n",
    "        \n",
    "        # Test that it can sum a list of fractions\n",
    "        \n",
    "        data = [Fraction(1, 4), Fraction(1, 4), Fraction(2, 5)]\n",
    "        result = sum(data)\n",
    "        self.assertEqual(result, 1)\n",
    "\n",
    "if __name__ == '__main__':\n",
    "    unittest.main()\n",
    "\"\"\""
   ]
  },
  {
   "cell_type": "markdown",
   "metadata": {},
   "source": [
    "## python -m unittest test\n",
    "##### PS C:\\Users\\mattl\\OneDrive\\Desktop\\Coding\\SDEV Python\\SDEV220\\HaydenMatthew_M05Programmingassignment\\project> python -m unittest test\n",
    "##### F.\n",
    "======================================================================\n",
    "##### FAIL: test_list_fraction (test.TestSum)\n",
    "----------------------------------------------------------------------\n",
    "    Traceback (most recent call last):\n",
    "    File \"C:\\Users\\mattl\\OneDrive\\Desktop\\Coding\\SDEV Python\\SDEV220\\HaydenMatthew_M05Programmingassignment\\project\\test.py\", line 22, in test_list_fraction\n",
    "        self.assertEqual(result, 1)\n",
    "    AssertionError: Fraction(9, 10) != 1\n",
    "\n",
    "----------------------------------------------------------------------\n",
    "Ran 2 tests in 0.001s\n",
    "\n",
    "FAILED (failures=1)"
   ]
  },
  {
   "cell_type": "markdown",
   "metadata": {},
   "source": [
    "# What do the test results mean?\n",
    "##### The first line returns how many tests passed and how many failed. In this case, one test failed (F) and one test passed (.).\n",
    "##### The following line (FAIL:) lists info about where the failure occured at. It lists the test method name, test module, and test case.\n",
    "##### In the lines afterwards, more info about where the failure occured at are given. The traceback gives the line number of where the failure happened. \n",
    "##### The AssertionError gives details about the result versus the expected result."
   ]
  }
 ],
 "metadata": {
  "kernelspec": {
   "display_name": "Python 3.10.4 64-bit",
   "language": "python",
   "name": "python3"
  },
  "language_info": {
   "codemirror_mode": {
    "name": "ipython",
    "version": 3
   },
   "file_extension": ".py",
   "mimetype": "text/x-python",
   "name": "python",
   "nbconvert_exporter": "python",
   "pygments_lexer": "ipython3",
   "version": "3.10.4"
  },
  "orig_nbformat": 4,
  "vscode": {
   "interpreter": {
    "hash": "93d16121903104183a7fdc6b4ee04e3e8f0e17ad4b21331b4708cb5987d019d8"
   }
  }
 },
 "nbformat": 4,
 "nbformat_minor": 2
}
