{
 "cells": [
  {
   "cell_type": "code",
   "execution_count": 7,
   "id": "096a97cc",
   "metadata": {},
   "outputs": [],
   "source": [
    "#3.1-3.2\n",
    "#3600 seconds in an hour\n",
    "seconds_per_hour=60*60"
   ]
  },
  {
   "cell_type": "code",
   "execution_count": 10,
   "id": "a51e84d6",
   "metadata": {},
   "outputs": [],
   "source": [
    "#3.3-3.4\n",
    "#86400 seconds in a day\n",
    "seconds_per_day=24*seconds_per_hour"
   ]
  },
  {
   "cell_type": "code",
   "execution_count": 11,
   "id": "fb8cf059",
   "metadata": {},
   "outputs": [
    {
     "data": {
      "text/plain": [
       "24.0"
      ]
     },
     "execution_count": 11,
     "metadata": {},
     "output_type": "execute_result"
    }
   ],
   "source": [
    "#3.5\n",
    "seconds_per_day/seconds_per_hour"
   ]
  },
  {
   "cell_type": "code",
   "execution_count": 12,
   "id": "0d87ca2a",
   "metadata": {},
   "outputs": [
    {
     "data": {
      "text/plain": [
       "24"
      ]
     },
     "execution_count": 12,
     "metadata": {},
     "output_type": "execute_result"
    }
   ],
   "source": [
    "#3.6\n",
    "#Yes, the floating-point division and integer division agree with each other.\n",
    "seconds_per_day//seconds_per_hour"
   ]
  }
 ],
 "metadata": {
  "kernelspec": {
   "display_name": "Python 3.10.4 64-bit",
   "language": "python",
   "name": "python3"
  },
  "language_info": {
   "codemirror_mode": {
    "name": "ipython",
    "version": 3
   },
   "file_extension": ".py",
   "mimetype": "text/x-python",
   "name": "python",
   "nbconvert_exporter": "python",
   "pygments_lexer": "ipython3",
   "version": "3.10.4"
  },
  "vscode": {
   "interpreter": {
    "hash": "93d16121903104183a7fdc6b4ee04e3e8f0e17ad4b21331b4708cb5987d019d8"
   }
  }
 },
 "nbformat": 4,
 "nbformat_minor": 5
}
