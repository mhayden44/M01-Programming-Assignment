{
 "cells": [
  {
   "cell_type": "code",
   "execution_count": 100,
   "metadata": {},
   "outputs": [],
   "source": [
    "#13.1 (located under HaydenMatthew_M06ProgrammingAssignment/today.txt)\n",
    "# %load today.txt\n",
    "Nov 16 2022"
   ]
  },
  {
   "cell_type": "code",
   "execution_count": 101,
   "metadata": {},
   "outputs": [
    {
     "name": "stdout",
     "output_type": "stream",
     "text": [
      "Nov 16 2022\n"
     ]
    }
   ],
   "source": [
    "#13.2\n",
    "file = open(\"today.txt\",\"r\")\n",
    "today_string = file.read()\n",
    "print(today_string)"
   ]
  },
  {
   "cell_type": "code",
   "execution_count": 102,
   "metadata": {},
   "outputs": [
    {
     "name": "stdout",
     "output_type": "stream",
     "text": [
      "11/16/2022\n"
     ]
    }
   ],
   "source": [
    "#13.3\n",
    "import datetime\n",
    "y = datetime.datetime.strptime(today_string, \"%b %d %Y\").strftime(\"%m/%d/%Y\")\n",
    "print(y)"
   ]
  },
  {
   "cell_type": "code",
   "execution_count": 103,
   "metadata": {},
   "outputs": [
    {
     "name": "stdout",
     "output_type": "stream",
     "text": [
      "0 seconds\n",
      "10:58:34\n",
      "0 seconds\n",
      "10:58:34\n",
      "1 seconds\n",
      "10:58:35\n"
     ]
    }
   ],
   "source": [
    "#15.1\n",
    "import multiprocessing as mp\n",
    "import time, datetime, random\n",
    "\n",
    "def processes():\n",
    "    period = random.randint(0,1)\n",
    "    print(str(period)+\" seconds\")\n",
    "    time.sleep(period)\n",
    "    print(datetime.datetime.now().strftime(\"%H:%M:%S\"))\n",
    "\n",
    "process1=processes()\n",
    "process2=processes()\n",
    "process3=processes()\n",
    "\n",
    "if __name__==\"__main__\":\n",
    "    p1 = mp.Process(target=process1)\n",
    "    p2 = mp.Process(target=process2)\n",
    "    p3 = mp.Process(target=process3)\n",
    "\n",
    "    p1.start()\n",
    "    p1.terminate()\n",
    "    p2.start()\n",
    "    p2.terminate()\n",
    "    p3.start()\n",
    "    p3.terminate()\n"
   ]
  }
 ],
 "metadata": {
  "kernelspec": {
   "display_name": "Python 3.10.4 64-bit",
   "language": "python",
   "name": "python3"
  },
  "language_info": {
   "codemirror_mode": {
    "name": "ipython",
    "version": 3
   },
   "file_extension": ".py",
   "mimetype": "text/x-python",
   "name": "python",
   "nbconvert_exporter": "python",
   "pygments_lexer": "ipython3",
   "version": "3.10.4"
  },
  "orig_nbformat": 4,
  "vscode": {
   "interpreter": {
    "hash": "93d16121903104183a7fdc6b4ee04e3e8f0e17ad4b21331b4708cb5987d019d8"
   }
  }
 },
 "nbformat": 4,
 "nbformat_minor": 2
}
