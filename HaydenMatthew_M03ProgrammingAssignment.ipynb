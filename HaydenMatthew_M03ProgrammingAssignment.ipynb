{
 "cells": [
  {
   "cell_type": "code",
   "execution_count": 45,
   "id": "b686fc51",
   "metadata": {},
   "outputs": [],
   "source": [
    "#7.4\n",
    "things = [\"mozarella\", \"cinderella\", \"salmonella\"]"
   ]
  },
  {
   "cell_type": "code",
   "execution_count": 46,
   "id": "6255df88",
   "metadata": {},
   "outputs": [
    {
     "name": "stdout",
     "output_type": "stream",
     "text": [
      "['mozarella', 'CINDERELLA', 'salmonella']\n"
     ]
    }
   ],
   "source": [
    "#7.5 - Yes, it changed the correct element in the list.\n",
    "things[1]=things[1].upper()\n",
    "print(things)"
   ]
  },
  {
   "cell_type": "code",
   "execution_count": 47,
   "id": "6e4d7990",
   "metadata": {},
   "outputs": [
    {
     "name": "stdout",
     "output_type": "stream",
     "text": [
      "['MOZARELLA', 'CINDERELLA', 'salmonella']\n"
     ]
    }
   ],
   "source": [
    "#7.6\n",
    "things[0]=things[0].upper()\n",
    "print(things)"
   ]
  },
  {
   "cell_type": "code",
   "execution_count": 49,
   "id": "f2620a0d",
   "metadata": {
    "scrolled": true
   },
   "outputs": [
    {
     "name": "stdout",
     "output_type": "stream",
     "text": [
      "['MOZARELLA', 'CINDERELLA']\n"
     ]
    }
   ],
   "source": [
    "#7.7\n",
    "things.pop()\n",
    "print(things)"
   ]
  },
  {
   "cell_type": "code",
   "execution_count": 51,
   "id": "3c21b893",
   "metadata": {},
   "outputs": [
    {
     "data": {
      "text/plain": [
       "['Harry', 'Ron', 'Hermione']"
      ]
     },
     "execution_count": 51,
     "metadata": {},
     "output_type": "execute_result"
    }
   ],
   "source": [
    "#9.1\n",
    "def good():\n",
    "    return ['Harry','Ron','Hermione']"
   ]
  },
  {
   "cell_type": "code",
   "execution_count": 54,
   "id": "06efd6ed",
   "metadata": {},
   "outputs": [
    {
     "name": "stdout",
     "output_type": "stream",
     "text": [
      "5\n"
     ]
    }
   ],
   "source": [
    "#9.2\n",
    "i=1\n",
    "def get_odds():\n",
    "    return (n for n in range(10) if n % 2 != 0)\n",
    "for n in get_odds():\n",
    "    if i==3:\n",
    "        print(n)\n",
    "        break;\n",
    "    else:\n",
    "        i+=1"
   ]
  },
  {
   "cell_type": "code",
   "execution_count": null,
   "id": "ae92a2f4",
   "metadata": {},
   "outputs": [],
   "source": []
  },
  {
   "cell_type": "code",
   "execution_count": null,
   "id": "7911b128",
   "metadata": {},
   "outputs": [],
   "source": []
  }
 ],
 "metadata": {
  "kernelspec": {
   "display_name": "Python 3.10.4 64-bit",
   "language": "python",
   "name": "python3"
  },
  "language_info": {
   "codemirror_mode": {
    "name": "ipython",
    "version": 3
   },
   "file_extension": ".py",
   "mimetype": "text/x-python",
   "name": "python",
   "nbconvert_exporter": "python",
   "pygments_lexer": "ipython3",
   "version": "3.10.4"
  },
  "vscode": {
   "interpreter": {
    "hash": "93d16121903104183a7fdc6b4ee04e3e8f0e17ad4b21331b4708cb5987d019d8"
   }
  }
 },
 "nbformat": 4,
 "nbformat_minor": 5
}
